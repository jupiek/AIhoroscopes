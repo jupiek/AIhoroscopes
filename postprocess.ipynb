{
 "cells": [
  {
   "cell_type": "code",
   "execution_count": 5,
   "metadata": {},
   "outputs": [
    {
     "name": "stdout",
     "output_type": "stream",
     "text": [
      "841\n"
     ]
    }
   ],
   "source": [
    "import sys, json\n",
    "import csv, re\n",
    "\n",
    "#doc_name = sys.argv[1]\n",
    "doc_name = \"horoscopes_results.csv\"\n",
    "pytext_path = \"./dat/AI/\"\n",
    "\n",
    "pattern = re.compile(r'([A-Z][^\\.!?]*[\\.!?])', re.M)\n",
    "count = 1\n",
    "with open(doc_name) as csv_r:\n",
    "    readCSV = csv.reader(csv_r, delimiter=',')\n",
    "    for row in readCSV:\n",
    "        if row[0] != '':\n",
    "            dic_temp = {}\n",
    "            complete_text = pattern.findall(row[4])\n",
    "\n",
    "            my_lst_str = ' '.join(map(str, complete_text))\n",
    "\n",
    "            f = open(pytext_path + \"%d.json\" % (count),\"w+\")\n",
    "            dic_temp[\"id\"] = 777\n",
    "            dic_temp[\"text\"] = my_lst_str\n",
    "            count += 1\n",
    "            f.write(json.dumps(dic_temp))\n",
    "            f.close()\n",
    "\n",
    "print(count)\n",
    "\n",
    "\n"
   ]
  },
  {
   "cell_type": "code",
   "execution_count": null,
   "metadata": {},
   "outputs": [],
   "source": []
  }
 ],
 "metadata": {
  "kernelspec": {
   "display_name": "Python 3",
   "language": "python",
   "name": "python3"
  },
  "language_info": {
   "codemirror_mode": {
    "name": "ipython",
    "version": 3
   },
   "file_extension": ".py",
   "mimetype": "text/x-python",
   "name": "python",
   "nbconvert_exporter": "python",
   "pygments_lexer": "ipython3",
   "version": "3.7.2"
  }
 },
 "nbformat": 4,
 "nbformat_minor": 2
}
